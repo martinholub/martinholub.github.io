{
 "cells": [
  {
   "cell_type": "markdown",
   "metadata": {
    "slideshow": {
     "slide_type": "slide"
    }
   },
   "source": [
    "# Deep Learning\n",
    "## a mild introduction\n",
    "---\n",
    "\n",
    "Martin Holub, 27/06/2018"
   ]
  },
  {
   "cell_type": "markdown",
   "metadata": {
    "slideshow": {
     "slide_type": "subslide"
    }
   },
   "source": [
    "![](assets/say-deep-learning-one-more-time.jpg)"
   ]
  },
  {
   "cell_type": "markdown",
   "metadata": {
    "slideshow": {
     "slide_type": "notes"
    }
   },
   "source": [
    "[how to slides](https://medium.com/@mjspeck/presenting-code-using-jupyter-notebook-slides-a8a3c3b59d67)\n",
    "[how to slides 2](https://medium.com/learning-machine-learning/present-your-data-science-projects-with-jupyter-slides-75f20735eb0f)\n",
    "\n",
    "In this presentation I will talk about Deep Learning. I will assume some previous knowledge on your part, but will still quickly refresh some basic concepts.\n",
    "\n",
    "**Word of warning**  \n",
    "The field is clearly hyped. Whereas there are couple of companies that apply it with amazing success to few specific tasks, it still awaits real success in most of other cases.\n",
    "\n",
    "I am no expert on the field. It is wast and moving quickly. Moreover we have just about an hour for the presentation. Despite that, I believe that it encapsulates the most important aspects and you shall benefit from it. Please ask any questions that come to your mind throughout, it is important as the topic is complex and it can easily happen that any of us gets lost in it! \n",
    "\n",
    "Also: Print the google document on applying ML."
   ]
  },
  {
   "cell_type": "markdown",
   "metadata": {
    "slideshow": {
     "slide_type": "slide"
    }
   },
   "source": [
    "# Landscape of AI\n",
    "\n",
    "| | |\n",
    ":---:|:---:\n",
    "![](assets/ai_landscape.png)| ![](assets/ai_flowchart.png)"
   ]
  },
  {
   "cell_type": "markdown",
   "metadata": {
    "slideshow": {
     "slide_type": "subslide"
    }
   },
   "source": [
    "* **Artificial Intelligence**: The study of *intelligent agents*, systems that perceive their environment and take actions that maximize their chance of successfully achieving their goals\n",
    "\n",
    "* **Machine Learning**: A computer program is said to *learn from experience* E with respect to some class of tasks T and performance measure P if its performance at tasks in T, as measured by P, improves with experience E.\n",
    "\n",
    "* **Representation Learning** (Feature Learning): Set of techniques that allows a system to automatically *discover the representations* needed for learning.\n",
    "\n",
    "* **Deep Learning** (Hierarchical Learning): Class of machine learning algorithms learn *multiple levels of representations* that correspond to *different levels of abstraction*; the levels form a hierarchy of concepts.\n",
    "\n"
   ]
  },
  {
   "cell_type": "markdown",
   "metadata": {
    "slideshow": {
     "slide_type": "notes"
    }
   },
   "source": [
    "In early days of *artificial intelligence*, the field reaped successes on problems that can be described by set of formal mathematical rules. These rules were usually hard-coded.\n",
    "\n",
    "This of course was significant limitation and it was necessary for the AI systems to extract patterns from raw data. The field of *machine learning* was born. In classical machine learning, we decide what will be the input to the algorithm. I.e. we engineer the features. Consider an example of ceaserian delivery. The AI system can recommend this procedure, but it does not do so by examining the patient directly, instead it is fed by several pieces of relevant information about the patient, usually designed by the doctor. Each peace of this information is called *featrue* and it is an *representation* of the patient. The machine learning algorithm is heavily dependent on the choice of representations. As an example from everyday life, compare doing arithmetics on Arabic numbers versus Roman numbers. Clearly one representation lends itself much better for this task. Many AI tasks can be solved by engineering the right set of features.\n",
    "\n",
    "However, for many tasks it is difficult to know which features should be extracted. One solution to this problem is to use machine learning not only to discover the mapping from features to output but also the representations themselves. Enter the world of *representation learning*.\n",
    "\n",
    "Whereas some features are extracted readily, others, usually high-level abstract features become very difficult to disentagle from the raw input data.\n",
    "\n",
    "*Deep Learning* addresses this by stacking layers on neurons and henceforth  constructing features in hierichical fashion from simpler features\n",
    "\n"
   ]
  },
  {
   "cell_type": "markdown",
   "metadata": {
    "slideshow": {
     "slide_type": "slide"
    }
   },
   "source": [
    "# Features\n",
    " \n",
    "| | |\n",
    ":---:|:---:\n",
    "![Example of different representations](assets/features1.png) | ![Building abstract features](assets/representations.png)"
   ]
  },
  {
   "cell_type": "markdown",
   "metadata": {
    "slideshow": {
     "slide_type": "slide"
    }
   },
   "source": [
    "# Mo' Data, Mo' GPUs\n",
    "\n",
    "> It is true that some skill is required to get good performance from a deep learning algorithm. Fortunately, the amount of skill required reduces as the amount of training data increases. The learning algorithms reaching human performance on complex tasks today are nearly identical to the learning algorithms that struggled to solve toy problems in the 1980s [...] The most important new development is that today we can provide these algorithms with the resources they need to succeed."
   ]
  },
  {
   "cell_type": "markdown",
   "metadata": {
    "slideshow": {
     "slide_type": "fragment"
    }
   },
   "source": [
    "![](assets/network_size.png)"
   ]
  },
  {
   "cell_type": "markdown",
   "metadata": {
    "slideshow": {
     "slide_type": "slide"
    }
   },
   "source": []
  }
 ],
 "metadata": {
  "celltoolbar": "Slideshow",
  "kernelspec": {
   "display_name": "Python 3",
   "language": "python",
   "name": "python3"
  },
  "language_info": {
   "codemirror_mode": {
    "name": "ipython",
    "version": 3
   },
   "file_extension": ".py",
   "mimetype": "text/x-python",
   "name": "python",
   "nbconvert_exporter": "python",
   "pygments_lexer": "ipython3",
   "version": "3.6.5"
  }
 },
 "nbformat": 4,
 "nbformat_minor": 2
}
